{
 "cells": [
  {
   "cell_type": "code",
   "execution_count": 2,
   "id": "cfb09233",
   "metadata": {},
   "outputs": [],
   "source": [
    "import urllib.request as kk\n",
    "from bs4 import BeautifulSoup\n"
   ]
  },
  {
   "cell_type": "code",
   "execution_count": 3,
   "id": "a54ed0b5",
   "metadata": {},
   "outputs": [],
   "source": [
    "html=kk.urlopen('https://comic.naver.com/webtoon/genre?genre=episode')\n",
    "html2=kk.urlopen('https://comic.naver.com/webtoon/genre?genre=omnibus')\n",
    "html3=kk.urlopen('https://comic.naver.com/webtoon/genre?genre=story')\n",
    "soup=BeautifulSoup(html,'html.parser')\n",
    "soup2=BeautifulSoup(html2,'html.parser')\n",
    "soup3=BeautifulSoup(html3,'html.parser')\n"
   ]
  },
  {
   "cell_type": "markdown",
   "id": "9c693a06",
   "metadata": {},
   "source": [
    "## 네이버웹툰 에피소드부문 웹툰이름 상위20개\n"
   ]
  },
  {
   "cell_type": "code",
   "execution_count": 4,
   "id": "cd116275",
   "metadata": {},
   "outputs": [
    {
     "name": "stdout",
     "output_type": "stream",
     "text": [
      "독립일기\n",
      "대학원 탈출일지\n",
      "마루는 강쥐\n",
      "비즈니스 여친\n",
      "약한영웅\n",
      "삼국지톡\n",
      "나쁜사람\n",
      "호랑이 들어와요\n",
      "2022 몰래...\n",
      "세상은 돈과 ...\n",
      "안녕, 나의 ...\n",
      "윌유메리미\n",
      "여우자매\n",
      "언덕 위의 제...\n",
      "오로지 너를 ...\n",
      "오빠세끼\n",
      "만물의 영장\n",
      "지옥급식\n",
      "미드우트\n",
      "혀로 만난 사이\n"
     ]
    }
   ],
   "source": [
    "nameList=soup.findAll('dt')\n",
    "for tag in nameList[0:20]:\n",
    "    print(tag.text)"
   ]
  },
  {
   "cell_type": "markdown",
   "id": "fe2f641e",
   "metadata": {},
   "source": [
    "## 네이버웹툰 에피소드부문 작가 상위20명"
   ]
  },
  {
   "cell_type": "code",
   "execution_count": 5,
   "id": "0d4e8dce",
   "metadata": {},
   "outputs": [
    {
     "name": "stdout",
     "output_type": "stream",
     "text": [
      "자까\n",
      "요다\n",
      "모죠\n",
      "루즌아 / 서해\n",
      "서패스 / 김진석\n",
      "무적핑크 / 이리\n",
      "둠스\n",
      "배세혁 / 유은\n",
      "웹툰작가\n",
      "한동우 / 이도희\n",
      "하린\n",
      "마인드C\n",
      "갈치\n",
      "쿠당탕\n",
      "아마도지 / 사삭\n",
      "올리브유\n",
      "보민\n",
      "둘기마요\n",
      "원김\n",
      "집손이\n"
     ]
    }
   ],
   "source": [
    "writerList=soup.findAll('dd', {'class' : 'desc'})\n",
    "for tag in writerList[0:20]:\n",
    "    print(tag.a.text)"
   ]
  },
  {
   "cell_type": "markdown",
   "id": "235828ad",
   "metadata": {},
   "source": [
    "## 네이버웹툰 에피소드부문 별점 상위20개"
   ]
  },
  {
   "cell_type": "code",
   "execution_count": 6,
   "id": "f730e507",
   "metadata": {},
   "outputs": [
    {
     "name": "stdout",
     "output_type": "stream",
     "text": [
      "9.97\n",
      "9.98\n",
      "9.98\n",
      "9.79\n",
      "9.83\n",
      "9.91\n",
      "9.67\n",
      "9.97\n",
      "9.77\n",
      "9.88\n",
      "9.94\n",
      "9.92\n",
      "9.93\n",
      "9.92\n",
      "9.95\n",
      "9.84\n",
      "9.96\n",
      "9.74\n",
      "9.65\n",
      "8.83\n"
     ]
    }
   ],
   "source": [
    "ratingList=soup.findAll('strong')\n",
    "for tag in ratingList[0:20]:\n",
    "    print(tag.text)"
   ]
  },
  {
   "cell_type": "markdown",
   "id": "eeb880bc",
   "metadata": {},
   "source": [
    "## 네이버웹툰 옴니버스부문 웹툰이름 상위20개"
   ]
  },
  {
   "cell_type": "code",
   "execution_count": 7,
   "id": "a88eb622",
   "metadata": {},
   "outputs": [
    {
     "name": "stdout",
     "output_type": "stream",
     "text": [
      "조조코믹스\n",
      "먹는 인생\n",
      "기묘한 만화\n",
      "청춘 블라썸\n",
      "히어로메이커\n",
      "애옹식당\n",
      "무서운게 딱좋...\n",
      "내일\n",
      "결혼생활 그림...\n",
      "후덜덜덜 남극...\n",
      "이말년씨리즈\n",
      "미물\n",
      "2020 호랑...\n",
      "굿 리스너\n",
      "뉴심:교체인생\n",
      "악몽일기\n",
      "덴마\n",
      "죽음에 관하여\n",
      "2011 미스...\n",
      "기기괴괴\n"
     ]
    }
   ],
   "source": [
    "nameList=soup2.findAll('dt')\n",
    "for tag in nameList[0:20]:\n",
    "    print(tag.a.text)"
   ]
  },
  {
   "cell_type": "markdown",
   "id": "d7ef244f",
   "metadata": {},
   "source": [
    "## 네이버웹툰 옴니버스부문 작가 상위20명"
   ]
  },
  {
   "cell_type": "code",
   "execution_count": 8,
   "id": "a182aba5",
   "metadata": {},
   "outputs": [
    {
     "name": "stdout",
     "output_type": "stream",
     "text": [
      "이동건\n",
      "홍끼\n",
      "몬킬\n",
      "홍덕 / NEMO...\n",
      "빤쓰\n",
      "정다정\n",
      "이동규\n",
      "라마\n",
      "은꼼지\n",
      "김민혁\n",
      "이말년\n",
      "외눈박이 / 김도연\n",
      "호랑\n",
      "쥬드프라이데이\n",
      "지인\n",
      "육공\n",
      "양영순\n",
      "시니 / 혀노\n",
      "웹툰작가\n",
      "오성대\n"
     ]
    }
   ],
   "source": [
    "writerList=soup2.findAll('dd', {'class' : 'desc'})\n",
    "for tag in writerList[0:20]:\n",
    "    print(tag.a.text)"
   ]
  },
  {
   "cell_type": "markdown",
   "id": "295a3406",
   "metadata": {},
   "source": [
    "## 네이버웹툰 옴니버스부문 별점 상위20개"
   ]
  },
  {
   "cell_type": "code",
   "execution_count": 9,
   "id": "e5a44b46",
   "metadata": {},
   "outputs": [
    {
     "name": "stdout",
     "output_type": "stream",
     "text": [
      "9.97\n",
      "9.96\n",
      "9.64\n",
      "9.98\n",
      "9.96\n",
      "9.96\n",
      "9.91\n",
      "9.98\n",
      "9.96\n",
      "9.94\n",
      "8.96\n",
      "9.87\n",
      "9.87\n",
      "9.97\n",
      "9.92\n",
      "9.84\n",
      "9.54\n",
      "9.97\n",
      "8.45\n",
      "9.90\n"
     ]
    }
   ],
   "source": [
    "ratingList=soup2.findAll('strong')\n",
    "for tag in ratingList[0:20]:\n",
    "    print(tag.text)"
   ]
  },
  {
   "cell_type": "markdown",
   "id": "f7ad8841",
   "metadata": {},
   "source": [
    "## 네이버웹툰 스토리부문 웹툰이름 상위20개"
   ]
  },
  {
   "cell_type": "code",
   "execution_count": 10,
   "id": "9e5f2428",
   "metadata": {},
   "outputs": [
    {
     "name": "stdout",
     "output_type": "stream",
     "text": [
      "김부장\n",
      "이상한 변호사...\n",
      "참교육\n",
      "화산귀환\n",
      "여신강림\n",
      "외모지상주의\n",
      "내 남편과 결...\n",
      "전지적 독자 ...\n",
      "호랑이형님\n",
      "99강화나무몽...\n",
      "뷰티풀 군바리\n",
      "나노마신\n",
      "싸움독학\n",
      "나 혼자 만렙...\n",
      "내가 키운 S...\n",
      "헬퍼 2 : ...\n",
      "퀘스트지상주의\n",
      "갓 오브 하이...\n",
      "취사병 전설이...\n",
      "어쩌다보니 천...\n"
     ]
    }
   ],
   "source": [
    "nameList=soup3.findAll('dt')\n",
    "for tag in nameList[0:20]:\n",
    "    print(tag.a.text)"
   ]
  },
  {
   "cell_type": "markdown",
   "id": "82bc046d",
   "metadata": {},
   "source": [
    "## 네이버웹툰 스토리부문 작가 상위20명"
   ]
  },
  {
   "cell_type": "code",
   "execution_count": 11,
   "id": "a9801b63",
   "metadata": {},
   "outputs": [
    {
     "name": "stdout",
     "output_type": "stream",
     "text": [
      "박태준 만화회사 ...\n",
      "유일 / 화음조,...\n",
      "채용택 / 한가람\n",
      "LICO / 비가\n",
      "야옹이\n",
      "박태준\n",
      "LICO / 성소작\n",
      "UMI / 슬리피...\n",
      "이상규\n",
      "홍실 / 지페리\n",
      "설이 / 윤성원\n",
      "현절무 / 금강불...\n",
      "박태준 만화회사 ...\n",
      "WAN.Z / 스...\n",
      "seri / 비완...\n",
      "삭\n",
      "박태준 만화회사\n",
      "박용제\n",
      "제이로빈 / 이진수\n",
      "꿀타래 / 담초\n"
     ]
    }
   ],
   "source": [
    "writerList=soup3.findAll('dd', {'class' : 'desc'})\n",
    "for tag in writerList[0:20]:\n",
    "    print(tag.a.text)"
   ]
  },
  {
   "cell_type": "markdown",
   "id": "55dfc499",
   "metadata": {},
   "source": [
    "## 네이버웹툰 스토리부문 별점 상위20개"
   ]
  },
  {
   "cell_type": "code",
   "execution_count": 30,
   "id": "efcd0945",
   "metadata": {},
   "outputs": [
    {
     "name": "stdout",
     "output_type": "stream",
     "text": [
      "9.15\n",
      "6.49\n",
      "9.86\n",
      "9.91\n",
      "9.38\n",
      "9.47\n",
      "9.95\n",
      "9.96\n",
      "9.95\n",
      "9.81\n",
      "9.73\n",
      "9.93\n",
      "9.74\n",
      "9.88\n",
      "8.79\n",
      "9.79\n",
      "9.84\n",
      "9.64\n",
      "9.93\n",
      "9.87\n"
     ]
    }
   ],
   "source": [
    "ratingList=soup3.findAll('strong')\n",
    "for tag in ratingList[0:20]:\n",
    "    print(tag.text)"
   ]
  },
  {
   "cell_type": "code",
   "execution_count": null,
   "id": "e5b654c5",
   "metadata": {},
   "outputs": [],
   "source": []
  }
 ],
 "metadata": {
  "kernelspec": {
   "display_name": "Python 3 (ipykernel)",
   "language": "python",
   "name": "python3"
  },
  "language_info": {
   "codemirror_mode": {
    "name": "ipython",
    "version": 3
   },
   "file_extension": ".py",
   "mimetype": "text/x-python",
   "name": "python",
   "nbconvert_exporter": "python",
   "pygments_lexer": "ipython3",
   "version": "3.9.12"
  }
 },
 "nbformat": 4,
 "nbformat_minor": 5
}
